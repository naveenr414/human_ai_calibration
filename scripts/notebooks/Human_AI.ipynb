{
 "cells": [
  {
   "cell_type": "code",
   "execution_count": 1,
   "metadata": {},
   "outputs": [],
   "source": [
    "%load_ext autoreload\n",
    "%autoreload 2"
   ]
  },
  {
   "cell_type": "code",
   "execution_count": 2,
   "metadata": {},
   "outputs": [],
   "source": [
    "import numpy as np\n",
    "import seaborn as sns\n",
    "import matplotlib.pyplot as plt"
   ]
  },
  {
   "cell_type": "code",
   "execution_count": 3,
   "metadata": {},
   "outputs": [
    {
     "name": "stderr",
     "output_type": "stream",
     "text": [
      "/usr0/home/naveenr/miniconda3/envs/food/lib/python3.8/site-packages/tqdm/auto.py:21: TqdmWarning: IProgress not found. Please update jupyter and ipywidgets. See https://ipywidgets.readthedocs.io/en/stable/user_install.html\n",
      "  from .autonotebook import tqdm as notebook_tqdm\n"
     ]
    }
   ],
   "source": [
    "from expertise.data import load_all_predictors, load_feature_data\n",
    "from expertise.predictors import train_boosted, create_predicted_dataframe, train_regression_tree, predict_aggregate, train_random_predictor\n",
    "from expertise.multical import assess_callibration\n",
    "from expertise.utils import subsample_rows"
   ]
  },
  {
   "cell_type": "markdown",
   "metadata": {},
   "source": [
    "## Setup Data"
   ]
  },
  {
   "cell_type": "code",
   "execution_count": 4,
   "metadata": {},
   "outputs": [],
   "source": [
    "max_depth = 5\n",
    "bins = 10"
   ]
  },
  {
   "cell_type": "code",
   "execution_count": 5,
   "metadata": {},
   "outputs": [],
   "source": [
    "tidy = load_all_predictors()"
   ]
  },
  {
   "cell_type": "code",
   "execution_count": 6,
   "metadata": {},
   "outputs": [
    {
     "name": "stderr",
     "output_type": "stream",
     "text": [
      "LS:  35%|\u001b[32m███▌      \u001b[0m 35/100 00:16, Training Error=0.0085220"
     ]
    },
    {
     "name": "stdout",
     "output_type": "stream",
     "text": [
      "Early Termination at round: 36\n",
      "Memory released!\n"
     ]
    },
    {
     "name": "stderr",
     "output_type": "stream",
     "text": [
      "\n"
     ]
    }
   ],
   "source": [
    "x_train, y_train, x_train_id, x_test, y_test, x_test_id = load_feature_data()\n",
    "test_predictions = train_boosted(x_train,y_train,x_test,max_depth)\n",
    "m = create_predicted_dataframe(test_predictions,x_test_id,bins)\n",
    "tidy = tidy.merge(m, on='file_id', how='left')"
   ]
  },
  {
   "cell_type": "code",
   "execution_count": 40,
   "metadata": {},
   "outputs": [],
   "source": [
    "tidy['boosted_pred'] = tidy['mc_pred'].round()\n"
   ]
  },
  {
   "cell_type": "code",
   "execution_count": 39,
   "metadata": {},
   "outputs": [
    {
     "data": {
      "text/html": [
       "<div>\n",
       "<style scoped>\n",
       "    .dataframe tbody tr th:only-of-type {\n",
       "        vertical-align: middle;\n",
       "    }\n",
       "\n",
       "    .dataframe tbody tr th {\n",
       "        vertical-align: top;\n",
       "    }\n",
       "\n",
       "    .dataframe thead th {\n",
       "        text-align: right;\n",
       "    }\n",
       "</style>\n",
       "<table border=\"1\" class=\"dataframe\">\n",
       "  <thead>\n",
       "    <tr style=\"text-align: right;\">\n",
       "      <th></th>\n",
       "      <th>file_id</th>\n",
       "      <th>human.pred.c</th>\n",
       "      <th>human.pred.t12</th>\n",
       "      <th>human.pred.t4</th>\n",
       "      <th>human.pred.t8</th>\n",
       "      <th>pred_esc_random_forest</th>\n",
       "      <th>true_esc</th>\n",
       "      <th>pred_esc_naive bayes</th>\n",
       "      <th>pred_esc_logistic_regression</th>\n",
       "      <th>pred_esc_linear_svm</th>\n",
       "      <th>...</th>\n",
       "      <th>rt_3</th>\n",
       "      <th>rt_4</th>\n",
       "      <th>rt_5</th>\n",
       "      <th>rt_6</th>\n",
       "      <th>rt_7</th>\n",
       "      <th>rt_8</th>\n",
       "      <th>rt_9</th>\n",
       "      <th>rt_10</th>\n",
       "      <th>cluster</th>\n",
       "      <th>boosted_pred</th>\n",
       "    </tr>\n",
       "  </thead>\n",
       "  <tbody>\n",
       "    <tr>\n",
       "      <th>0</th>\n",
       "      <td>321932871341684</td>\n",
       "      <td>1</td>\n",
       "      <td>1</td>\n",
       "      <td>1</td>\n",
       "      <td>1</td>\n",
       "      <td>0</td>\n",
       "      <td>0</td>\n",
       "      <td>1</td>\n",
       "      <td>1</td>\n",
       "      <td>1</td>\n",
       "      <td>...</td>\n",
       "      <td>1.0</td>\n",
       "      <td>1.0</td>\n",
       "      <td>1.0</td>\n",
       "      <td>1.0</td>\n",
       "      <td>1.0</td>\n",
       "      <td>1.0</td>\n",
       "      <td>1.0</td>\n",
       "      <td>1.0</td>\n",
       "      <td>1</td>\n",
       "      <td>1.0</td>\n",
       "    </tr>\n",
       "    <tr>\n",
       "      <th>1</th>\n",
       "      <td>321933198008318</td>\n",
       "      <td>1</td>\n",
       "      <td>1</td>\n",
       "      <td>0</td>\n",
       "      <td>1</td>\n",
       "      <td>1</td>\n",
       "      <td>1</td>\n",
       "      <td>1</td>\n",
       "      <td>0</td>\n",
       "      <td>0</td>\n",
       "      <td>...</td>\n",
       "      <td>0.0</td>\n",
       "      <td>0.0</td>\n",
       "      <td>1.0</td>\n",
       "      <td>1.0</td>\n",
       "      <td>0.0</td>\n",
       "      <td>0.0</td>\n",
       "      <td>0.0</td>\n",
       "      <td>0.0</td>\n",
       "      <td>1</td>\n",
       "      <td>0.0</td>\n",
       "    </tr>\n",
       "    <tr>\n",
       "      <th>2</th>\n",
       "      <td>324207107780927</td>\n",
       "      <td>1</td>\n",
       "      <td>0</td>\n",
       "      <td>0</td>\n",
       "      <td>0</td>\n",
       "      <td>1</td>\n",
       "      <td>0</td>\n",
       "      <td>1</td>\n",
       "      <td>1</td>\n",
       "      <td>1</td>\n",
       "      <td>...</td>\n",
       "      <td>0.0</td>\n",
       "      <td>0.0</td>\n",
       "      <td>0.0</td>\n",
       "      <td>0.0</td>\n",
       "      <td>0.0</td>\n",
       "      <td>0.0</td>\n",
       "      <td>0.0</td>\n",
       "      <td>0.0</td>\n",
       "      <td>1</td>\n",
       "      <td>0.0</td>\n",
       "    </tr>\n",
       "    <tr>\n",
       "      <th>3</th>\n",
       "      <td>338180983050206</td>\n",
       "      <td>1</td>\n",
       "      <td>0</td>\n",
       "      <td>0</td>\n",
       "      <td>0</td>\n",
       "      <td>1</td>\n",
       "      <td>0</td>\n",
       "      <td>1</td>\n",
       "      <td>1</td>\n",
       "      <td>1</td>\n",
       "      <td>...</td>\n",
       "      <td>1.0</td>\n",
       "      <td>1.0</td>\n",
       "      <td>1.0</td>\n",
       "      <td>1.0</td>\n",
       "      <td>1.0</td>\n",
       "      <td>1.0</td>\n",
       "      <td>1.0</td>\n",
       "      <td>1.0</td>\n",
       "      <td>0</td>\n",
       "      <td>1.0</td>\n",
       "    </tr>\n",
       "    <tr>\n",
       "      <th>4</th>\n",
       "      <td>338181036383534</td>\n",
       "      <td>0</td>\n",
       "      <td>1</td>\n",
       "      <td>1</td>\n",
       "      <td>0</td>\n",
       "      <td>1</td>\n",
       "      <td>0</td>\n",
       "      <td>1</td>\n",
       "      <td>1</td>\n",
       "      <td>1</td>\n",
       "      <td>...</td>\n",
       "      <td>0.0</td>\n",
       "      <td>0.0</td>\n",
       "      <td>0.0</td>\n",
       "      <td>0.0</td>\n",
       "      <td>0.0</td>\n",
       "      <td>0.0</td>\n",
       "      <td>0.0</td>\n",
       "      <td>0.0</td>\n",
       "      <td>1</td>\n",
       "      <td>1.0</td>\n",
       "    </tr>\n",
       "    <tr>\n",
       "      <th>...</th>\n",
       "      <td>...</td>\n",
       "      <td>...</td>\n",
       "      <td>...</td>\n",
       "      <td>...</td>\n",
       "      <td>...</td>\n",
       "      <td>...</td>\n",
       "      <td>...</td>\n",
       "      <td>...</td>\n",
       "      <td>...</td>\n",
       "      <td>...</td>\n",
       "      <td>...</td>\n",
       "      <td>...</td>\n",
       "      <td>...</td>\n",
       "      <td>...</td>\n",
       "      <td>...</td>\n",
       "      <td>...</td>\n",
       "      <td>...</td>\n",
       "      <td>...</td>\n",
       "      <td>...</td>\n",
       "      <td>...</td>\n",
       "      <td>...</td>\n",
       "    </tr>\n",
       "    <tr>\n",
       "      <th>855</th>\n",
       "      <td>1036634413051119</td>\n",
       "      <td>0</td>\n",
       "      <td>0</td>\n",
       "      <td>0</td>\n",
       "      <td>0</td>\n",
       "      <td>0</td>\n",
       "      <td>0</td>\n",
       "      <td>0</td>\n",
       "      <td>0</td>\n",
       "      <td>0</td>\n",
       "      <td>...</td>\n",
       "      <td>0.0</td>\n",
       "      <td>1.0</td>\n",
       "      <td>0.0</td>\n",
       "      <td>0.0</td>\n",
       "      <td>0.0</td>\n",
       "      <td>0.0</td>\n",
       "      <td>0.0</td>\n",
       "      <td>0.0</td>\n",
       "      <td>0</td>\n",
       "      <td>1.0</td>\n",
       "    </tr>\n",
       "    <tr>\n",
       "      <th>856</th>\n",
       "      <td>1036635499717677</td>\n",
       "      <td>0</td>\n",
       "      <td>1</td>\n",
       "      <td>1</td>\n",
       "      <td>1</td>\n",
       "      <td>0</td>\n",
       "      <td>0</td>\n",
       "      <td>0</td>\n",
       "      <td>0</td>\n",
       "      <td>0</td>\n",
       "      <td>...</td>\n",
       "      <td>0.0</td>\n",
       "      <td>0.0</td>\n",
       "      <td>0.0</td>\n",
       "      <td>0.0</td>\n",
       "      <td>0.0</td>\n",
       "      <td>0.0</td>\n",
       "      <td>0.0</td>\n",
       "      <td>0.0</td>\n",
       "      <td>0</td>\n",
       "      <td>0.0</td>\n",
       "    </tr>\n",
       "    <tr>\n",
       "      <th>857</th>\n",
       "      <td>1038831612831399</td>\n",
       "      <td>0</td>\n",
       "      <td>0</td>\n",
       "      <td>0</td>\n",
       "      <td>0</td>\n",
       "      <td>0</td>\n",
       "      <td>0</td>\n",
       "      <td>0</td>\n",
       "      <td>0</td>\n",
       "      <td>0</td>\n",
       "      <td>...</td>\n",
       "      <td>0.0</td>\n",
       "      <td>0.0</td>\n",
       "      <td>0.0</td>\n",
       "      <td>0.0</td>\n",
       "      <td>0.0</td>\n",
       "      <td>0.0</td>\n",
       "      <td>0.0</td>\n",
       "      <td>0.0</td>\n",
       "      <td>0</td>\n",
       "      <td>0.0</td>\n",
       "    </tr>\n",
       "    <tr>\n",
       "      <th>858</th>\n",
       "      <td>1038833189497908</td>\n",
       "      <td>1</td>\n",
       "      <td>1</td>\n",
       "      <td>0</td>\n",
       "      <td>0</td>\n",
       "      <td>1</td>\n",
       "      <td>0</td>\n",
       "      <td>1</td>\n",
       "      <td>1</td>\n",
       "      <td>1</td>\n",
       "      <td>...</td>\n",
       "      <td>1.0</td>\n",
       "      <td>1.0</td>\n",
       "      <td>1.0</td>\n",
       "      <td>1.0</td>\n",
       "      <td>1.0</td>\n",
       "      <td>1.0</td>\n",
       "      <td>1.0</td>\n",
       "      <td>1.0</td>\n",
       "      <td>0</td>\n",
       "      <td>1.0</td>\n",
       "    </tr>\n",
       "    <tr>\n",
       "      <th>859</th>\n",
       "      <td>1040442702670290</td>\n",
       "      <td>0</td>\n",
       "      <td>0</td>\n",
       "      <td>0</td>\n",
       "      <td>0</td>\n",
       "      <td>0</td>\n",
       "      <td>0</td>\n",
       "      <td>0</td>\n",
       "      <td>0</td>\n",
       "      <td>0</td>\n",
       "      <td>...</td>\n",
       "      <td>1.0</td>\n",
       "      <td>1.0</td>\n",
       "      <td>1.0</td>\n",
       "      <td>1.0</td>\n",
       "      <td>1.0</td>\n",
       "      <td>1.0</td>\n",
       "      <td>1.0</td>\n",
       "      <td>0.0</td>\n",
       "      <td>1</td>\n",
       "      <td>0.0</td>\n",
       "    </tr>\n",
       "  </tbody>\n",
       "</table>\n",
       "<p>860 rows × 25 columns</p>\n",
       "</div>"
      ],
      "text/plain": [
       "              file_id human.pred.c  human.pred.t12  human.pred.t4  \\\n",
       "0     321932871341684            1               1              1   \n",
       "1     321933198008318            1               1              0   \n",
       "2     324207107780927            1               0              0   \n",
       "3     338180983050206            1               0              0   \n",
       "4     338181036383534            0               1              1   \n",
       "..                ...          ...             ...            ...   \n",
       "855  1036634413051119            0               0              0   \n",
       "856  1036635499717677            0               1              1   \n",
       "857  1038831612831399            0               0              0   \n",
       "858  1038833189497908            1               1              0   \n",
       "859  1040442702670290            0               0              0   \n",
       "\n",
       "     human.pred.t8  pred_esc_random_forest  true_esc pred_esc_naive bayes  \\\n",
       "0                1                       0         0                    1   \n",
       "1                1                       1         1                    1   \n",
       "2                0                       1         0                    1   \n",
       "3                0                       1         0                    1   \n",
       "4                0                       1         0                    1   \n",
       "..             ...                     ...       ...                  ...   \n",
       "855              0                       0         0                    0   \n",
       "856              1                       0         0                    0   \n",
       "857              0                       0         0                    0   \n",
       "858              0                       1         0                    1   \n",
       "859              0                       0         0                    0   \n",
       "\n",
       "     pred_esc_logistic_regression  pred_esc_linear_svm  ...  rt_3  rt_4  rt_5  \\\n",
       "0                               1                    1  ...   1.0   1.0   1.0   \n",
       "1                               0                    0  ...   0.0   0.0   1.0   \n",
       "2                               1                    1  ...   0.0   0.0   0.0   \n",
       "3                               1                    1  ...   1.0   1.0   1.0   \n",
       "4                               1                    1  ...   0.0   0.0   0.0   \n",
       "..                            ...                  ...  ...   ...   ...   ...   \n",
       "855                             0                    0  ...   0.0   1.0   0.0   \n",
       "856                             0                    0  ...   0.0   0.0   0.0   \n",
       "857                             0                    0  ...   0.0   0.0   0.0   \n",
       "858                             1                    1  ...   1.0   1.0   1.0   \n",
       "859                             0                    0  ...   1.0   1.0   1.0   \n",
       "\n",
       "     rt_6  rt_7  rt_8  rt_9  rt_10  cluster  boosted_pred  \n",
       "0     1.0   1.0   1.0   1.0    1.0        1           1.0  \n",
       "1     1.0   0.0   0.0   0.0    0.0        1           0.0  \n",
       "2     0.0   0.0   0.0   0.0    0.0        1           0.0  \n",
       "3     1.0   1.0   1.0   1.0    1.0        0           1.0  \n",
       "4     0.0   0.0   0.0   0.0    0.0        1           1.0  \n",
       "..    ...   ...   ...   ...    ...      ...           ...  \n",
       "855   0.0   0.0   0.0   0.0    0.0        0           1.0  \n",
       "856   0.0   0.0   0.0   0.0    0.0        0           0.0  \n",
       "857   0.0   0.0   0.0   0.0    0.0        0           0.0  \n",
       "858   1.0   1.0   1.0   1.0    1.0        0           1.0  \n",
       "859   1.0   1.0   1.0   1.0    0.0        1           0.0  \n",
       "\n",
       "[860 rows x 25 columns]"
      ]
     },
     "execution_count": 39,
     "metadata": {},
     "output_type": "execute_result"
    }
   ],
   "source": [
    "tidy"
   ]
  },
  {
   "cell_type": "markdown",
   "metadata": {},
   "source": [
    "## Accuracy of Different Predictors"
   ]
  },
  {
   "cell_type": "code",
   "execution_count": 41,
   "metadata": {},
   "outputs": [
    {
     "data": {
      "text/plain": [
       "(0.686046511627907,\n",
       " 0.6813953488372093,\n",
       " 0.6976744186046512,\n",
       " 0.6976744186046512,\n",
       " 0.6953488372093023)"
      ]
     },
     "execution_count": 41,
     "metadata": {},
     "output_type": "execute_result"
    }
   ],
   "source": [
    "rf = assess_callibration(tidy,\"pred_esc_random_forest\",\"pred_esc_random_forest\",\"true_esc\")\n",
    "lr = assess_callibration(tidy,\"pred_esc_logistic_regression\",\"pred_esc_logistic_regression\",\"true_esc\")\n",
    "svm = assess_callibration(tidy,\"pred_esc_linear_svm\",\"pred_esc_linear_svm\",\"true_esc\")\n",
    "gb = assess_callibration(tidy,\"pred_esc_gradient_boosting\",\"pred_esc_gradient_boosting\",\"true_esc\")\n",
    "boosted = assess_callibration(tidy,\"boosted_pred\",\"boosted_pred\",\"true_esc\")\n",
    "rf,lr,svm,gb,boosted"
   ]
  },
  {
   "cell_type": "code",
   "execution_count": 42,
   "metadata": {},
   "outputs": [
    {
     "data": {
      "text/plain": [
       "(0.7255813953488373,\n",
       " 0.7186046511627906,\n",
       " 0.7255813953488373,\n",
       " 0.7395348837209301,\n",
       " 0.7209302325581395)"
      ]
     },
     "execution_count": 42,
     "metadata": {},
     "output_type": "execute_result"
    }
   ],
   "source": [
    "rf = assess_callibration(tidy,\"human.pred.t12\",\"pred_esc_random_forest\",\"true_esc\")\n",
    "lr = assess_callibration(tidy,\"human.pred.t12\",\"pred_esc_logistic_regression\",\"true_esc\")\n",
    "svm = assess_callibration(tidy,\"human.pred.t12\",\"pred_esc_linear_svm\",\"true_esc\")\n",
    "gb = assess_callibration(tidy,\"human.pred.t12\",\"pred_esc_gradient_boosting\",\"true_esc\")\n",
    "boosted = assess_callibration(tidy,\"human.pred.t12\",\"boosted_pred\",\"true_esc\")\n",
    "rf,lr,svm,gb,boosted"
   ]
  },
  {
   "cell_type": "markdown",
   "metadata": {},
   "source": [
    "## Compare \\mathcal{F}"
   ]
  },
  {
   "cell_type": "code",
   "execution_count": 8,
   "metadata": {},
   "outputs": [
    {
     "name": "stdout",
     "output_type": "stream",
     "text": [
      "On val 0\n",
      "On val 1\n",
      "On val 10\n",
      "On val 9\n"
     ]
    },
    {
     "data": {
      "text/plain": [
       "0.7209302325581396"
      ]
     },
     "execution_count": 8,
     "metadata": {},
     "output_type": "execute_result"
    }
   ],
   "source": [
    "boosted_predictor = assess_callibration(tidy,\"human.pred.t12\",\"bin\",\"true_esc\")\n",
    "boosted_predictor"
   ]
  },
  {
   "cell_type": "code",
   "execution_count": 9,
   "metadata": {},
   "outputs": [],
   "source": [
    "num_trees = 10\n",
    "num_clusters = 2\n",
    "for i in range(1,num_trees+1):\n",
    "    tidy['rt_{}'.format(i)] = subsample_rows(train_regression_tree(x_train,y_train,x_test,i),tidy,x_test_id)\n",
    "tidy['cluster'] = predict_aggregate(tidy[['rt_{}'.format(i) for i in range(1,num_trees+1)]].to_numpy(),num_clusters)"
   ]
  },
  {
   "cell_type": "code",
   "execution_count": 10,
   "metadata": {},
   "outputs": [
    {
     "name": "stdout",
     "output_type": "stream",
     "text": [
      "On val 0\n",
      "On val 1\n"
     ]
    },
    {
     "data": {
      "text/plain": [
       "0.6767441860465115"
      ]
     },
     "execution_count": 10,
     "metadata": {},
     "output_type": "execute_result"
    }
   ],
   "source": [
    "top_k_predictor = assess_callibration(tidy,\"human.pred.t12\",\"cluster\",\"true_esc\")\n",
    "top_k_predictor"
   ]
  },
  {
   "cell_type": "code",
   "execution_count": 11,
   "metadata": {},
   "outputs": [
    {
     "name": "stdout",
     "output_type": "stream",
     "text": [
      "On val 0\n",
      "On val 1\n",
      "On val 0\n",
      "On val 1\n",
      "On val 0\n",
      "On val 1\n",
      "On val 0\n",
      "On val 1\n",
      "On val 0\n",
      "On val 1\n",
      "On val 0\n",
      "On val 1\n",
      "On val 0\n",
      "On val 1\n",
      "On val 0\n",
      "On val 1\n",
      "On val 0\n",
      "On val 1\n"
     ]
    }
   ],
   "source": [
    "pred_by_trees = []\n",
    "for num_trees in range(2,11):\n",
    "    num_clusters = 2\n",
    "    for i in range(1,num_trees+1):\n",
    "        tidy['rt_{}'.format(i)] = subsample_rows(train_regression_tree(x_train,y_train,x_test,i),tidy,x_test_id)\n",
    "    tidy['cluster'] = predict_aggregate(tidy[['rt_{}'.format(i) for i in range(1,num_trees+1)]].to_numpy(),num_clusters)\n",
    "    top_k_predictor = assess_callibration(tidy,\"human.pred.t12\",\"cluster\",\"true_esc\")\n",
    "    pred_by_trees.append(top_k_predictor)"
   ]
  },
  {
   "cell_type": "code",
   "execution_count": 12,
   "metadata": {},
   "outputs": [
    {
     "data": {
      "text/plain": [
       "[<matplotlib.lines.Line2D at 0x7feb7c7c53d0>]"
      ]
     },
     "execution_count": 12,
     "metadata": {},
     "output_type": "execute_result"
    },
    {
     "data": {
      "image/png": "[encoded data removed]",
      "text/plain": [
       "<Figure size 640x480 with 1 Axes>"
      ]
     },
     "metadata": {},
     "output_type": "display_data"
    }
   ],
   "source": [
    "plt.plot(pred_by_trees)"
   ]
  },
  {
   "cell_type": "code",
   "execution_count": 13,
   "metadata": {},
   "outputs": [
    {
     "name": "stdout",
     "output_type": "stream",
     "text": [
      "On val 0.0\n",
      "On val 1.0\n",
      "On val 0\n",
      "On val 1\n",
      "On val 0.0\n",
      "On val 1.0\n"
     ]
    },
    {
     "data": {
      "text/plain": [
       "(0.6813953488372093, 0.6581395348837209, 0.6953488372093023)"
      ]
     },
     "execution_count": 13,
     "metadata": {},
     "output_type": "execute_result"
    }
   ],
   "source": [
    "individual_tree_perf = assess_callibration(tidy,\"rt_1\",\"rt_1\",\"true_esc\")\n",
    "bagged_trees_perf = assess_callibration(tidy,\"cluster\",\"cluster\",\"true_esc\")\n",
    "boosted_trees_perf = assess_callibration(tidy,\"boosted_pred\",\"boosted_pred\",\"true_esc\")\n",
    "individual_tree_perf,bagged_trees_perf, boosted_trees_perf"
   ]
  },
  {
   "cell_type": "code",
   "execution_count": 14,
   "metadata": {},
   "outputs": [
    {
     "name": "stdout",
     "output_type": "stream",
     "text": [
      "On val 0.0\n",
      "On val 1.0\n"
     ]
    },
    {
     "data": {
      "text/plain": [
       "0.7209302325581395"
      ]
     },
     "execution_count": 14,
     "metadata": {},
     "output_type": "execute_result"
    }
   ],
   "source": [
    "assess_callibration(tidy,\"human.pred.t12\",\"boosted_pred\",\"true_esc\")\n"
   ]
  },
  {
   "cell_type": "markdown",
   "metadata": {},
   "source": [
    "## Impact of Multicallibration"
   ]
  },
  {
   "cell_type": "code",
   "execution_count": 15,
   "metadata": {},
   "outputs": [
    {
     "name": "stdout",
     "output_type": "stream",
     "text": [
      "On val 0\n",
      "On val 1\n"
     ]
    },
    {
     "data": {
      "text/plain": [
       "0.7627906976744185"
      ]
     },
     "execution_count": 15,
     "metadata": {},
     "output_type": "execute_result"
    }
   ],
   "source": [
    "tidy['cluster'] = train_random_predictor(tidy['true_esc'],0.7)\n",
    "random_predictor = assess_callibration(tidy,\"human.pred.t12\",\"cluster\",\"true_esc\")\n",
    "random_predictor"
   ]
  },
  {
   "cell_type": "code",
   "execution_count": 16,
   "metadata": {},
   "outputs": [
    {
     "name": "stdout",
     "output_type": "stream",
     "text": [
      "On val 0\n",
      "On val 1\n",
      "On val 0\n",
      "On val 1\n",
      "On val 0\n",
      "On val 1\n",
      "On val 0\n",
      "On val 1\n",
      "On val 0\n",
      "On val 1\n",
      "On val 0\n",
      "On val 1\n",
      "On val 0\n",
      "On val 1\n",
      "On val 0\n",
      "On val 1\n",
      "On val 0\n",
      "On val 1\n",
      "On val 0\n",
      "On val 1\n",
      "On val 0\n",
      "On val 1\n",
      "On val 0\n",
      "On val 1\n",
      "On val 0\n",
      "On val 1\n",
      "On val 0\n",
      "On val 1\n",
      "On val 0\n",
      "On val 1\n",
      "On val 0\n",
      "On val 1\n",
      "On val 0\n",
      "On val 1\n",
      "On val 0\n",
      "On val 1\n",
      "On val 0\n",
      "On val 1\n",
      "On val 0\n",
      "On val 1\n",
      "On val 0\n",
      "On val 1\n",
      "On val 0\n",
      "On val 1\n",
      "On val 0\n",
      "On val 1\n",
      "On val 0\n",
      "On val 1\n",
      "On val 0\n",
      "On val 1\n",
      "On val 0\n",
      "On val 1\n",
      "On val 0\n",
      "On val 1\n",
      "On val 0\n",
      "On val 1\n",
      "On val 0\n",
      "On val 1\n",
      "On val 0\n",
      "On val 1\n",
      "On val 0\n",
      "On val 1\n",
      "On val 0\n",
      "On val 1\n",
      "On val 0\n",
      "On val 1\n",
      "On val 0\n",
      "On val 1\n",
      "On val 0\n",
      "On val 1\n",
      "On val 0\n",
      "On val 1\n",
      "On val 0\n",
      "On val 1\n",
      "On val 0\n",
      "On val 1\n",
      "On val 0\n",
      "On val 1\n",
      "On val 0\n",
      "On val 1\n",
      "On val 0\n",
      "On val 1\n",
      "On val 0\n",
      "On val 1\n",
      "On val 0\n",
      "On val 1\n",
      "On val 0\n",
      "On val 1\n",
      "On val 0\n",
      "On val 1\n",
      "On val 0\n",
      "On val 1\n",
      "On val 0\n",
      "On val 1\n",
      "On val 0\n",
      "On val 1\n",
      "On val 0\n",
      "On val 1\n",
      "On val 0\n",
      "On val 1\n",
      "On val 0\n",
      "On val 1\n",
      "On val 0\n",
      "On val 1\n",
      "On val 0\n",
      "On val 1\n",
      "On val 0\n",
      "On val 1\n",
      "On val 0\n",
      "On val 1\n",
      "On val 0\n",
      "On val 1\n",
      "On val 0\n",
      "On val 1\n",
      "On val 0\n",
      "On val 1\n",
      "On val 0\n",
      "On val 1\n",
      "On val 0\n",
      "On val 1\n",
      "On val 0\n",
      "On val 1\n",
      "On val 0\n",
      "On val 1\n",
      "On val 0\n",
      "On val 1\n",
      "On val 0\n",
      "On val 1\n",
      "On val 0\n",
      "On val 1\n",
      "On val 0\n",
      "On val 1\n",
      "On val 0\n",
      "On val 1\n",
      "On val 0\n",
      "On val 1\n",
      "On val 0\n",
      "On val 1\n",
      "On val 0\n",
      "On val 1\n",
      "On val 0\n",
      "On val 1\n",
      "On val 0\n",
      "On val 1\n",
      "On val 0\n",
      "On val 1\n",
      "On val 0\n",
      "On val 1\n",
      "On val 0\n",
      "On val 1\n",
      "On val 0\n",
      "On val 1\n",
      "On val 0\n",
      "On val 1\n",
      "On val 0\n",
      "On val 1\n",
      "On val 0\n",
      "On val 1\n",
      "On val 0\n",
      "On val 1\n",
      "On val 0\n",
      "On val 1\n",
      "On val 0\n",
      "On val 1\n",
      "On val 0\n",
      "On val 1\n",
      "On val 0\n",
      "On val 1\n",
      "On val 0\n",
      "On val 1\n",
      "On val 0\n",
      "On val 1\n",
      "On val 0\n",
      "On val 1\n",
      "On val 0\n",
      "On val 1\n",
      "On val 0\n",
      "On val 1\n",
      "On val 0\n",
      "On val 1\n",
      "On val 0\n",
      "On val 1\n",
      "On val 0\n",
      "On val 1\n",
      "On val 0\n",
      "On val 1\n",
      "On val 0\n",
      "On val 1\n",
      "On val 0\n",
      "On val 1\n",
      "On val 0\n",
      "On val 1\n",
      "On val 0\n",
      "On val 1\n",
      "On val 0\n",
      "On val 1\n",
      "On val 0\n",
      "On val 1\n",
      "On val 0\n",
      "On val 1\n"
     ]
    },
    {
     "data": {
      "image/png": "[encoded data removed]",
      "text/plain": [
       "<Figure size 640x480 with 1 Axes>"
      ]
     },
     "metadata": {},
     "output_type": "display_data"
    }
   ],
   "source": [
    "num_trials = 100\n",
    "accuracy = 0.65\n",
    "trials = []\n",
    "for i in range(num_trials):\n",
    "    tidy['cluster'] = train_random_predictor(tidy['true_esc'],accuracy)\n",
    "    random_predictor = assess_callibration(tidy,\"human.pred.t12\",\"cluster\",\"true_esc\")\n",
    "    trials.append(random_predictor)\n",
    "sns.kdeplot(trials, shade=True)\n",
    "plt.xlabel('Trial Result')\n",
    "plt.ylabel('Density')\n",
    "plt.title('KDE Plot of get_trial() Results (100 Repetitions)')\n",
    "plt.show()"
   ]
  },
  {
   "cell_type": "code",
   "execution_count": 17,
   "metadata": {},
   "outputs": [
    {
     "name": "stdout",
     "output_type": "stream",
     "text": [
      "On val 0\n",
      "On val 1\n",
      "On val 0\n",
      "On val 1\n"
     ]
    },
    {
     "name": "stdout",
     "output_type": "stream",
     "text": [
      "On val 0\n",
      "On val 1\n",
      "On val 0\n",
      "On val 1\n",
      "On val 0\n",
      "On val 1\n",
      "On val 0\n",
      "On val 1\n",
      "On val 0\n",
      "On val 1\n",
      "On val 0\n",
      "On val 1\n",
      "On val 0\n",
      "On val 1\n",
      "On val 0\n",
      "On val 1\n",
      "On val 0\n",
      "On val 1\n",
      "On val 0\n",
      "On val 1\n",
      "On val 0\n",
      "On val 1\n",
      "On val 0\n",
      "On val 1\n",
      "On val 0\n",
      "On val 1\n",
      "On val 0\n",
      "On val 1\n",
      "On val 0\n",
      "On val 1\n",
      "On val 0\n",
      "On val 1\n",
      "On val 0\n",
      "On val 1\n",
      "On val 0\n",
      "On val 1\n",
      "On val 0\n",
      "On val 1\n",
      "On val 0\n",
      "On val 1\n",
      "On val 0\n",
      "On val 1\n",
      "On val 0\n",
      "On val 1\n",
      "On val 0\n",
      "On val 1\n",
      "On val 0\n",
      "On val 1\n",
      "On val 0\n",
      "On val 1\n",
      "On val 0\n",
      "On val 1\n",
      "On val 0\n",
      "On val 1\n",
      "On val 0\n",
      "On val 1\n",
      "On val 0\n",
      "On val 1\n",
      "On val 0\n",
      "On val 1\n",
      "On val 0\n",
      "On val 1\n",
      "On val 0\n",
      "On val 1\n",
      "On val 0\n",
      "On val 1\n",
      "On val 0\n",
      "On val 1\n",
      "On val 0\n",
      "On val 1\n",
      "On val 0\n",
      "On val 1\n",
      "On val 0\n",
      "On val 1\n",
      "On val 0\n",
      "On val 1\n",
      "On val 0\n",
      "On val 1\n",
      "On val 0\n",
      "On val 1\n",
      "On val 0\n",
      "On val 1\n",
      "On val 0\n",
      "On val 1\n",
      "On val 0\n",
      "On val 1\n",
      "On val 0\n",
      "On val 1\n",
      "On val 0\n",
      "On val 1\n",
      "On val 0\n",
      "On val 1\n",
      "On val 0\n",
      "On val 1\n",
      "On val 0\n",
      "On val 1\n",
      "On val 0\n",
      "On val 1\n",
      "On val 0\n",
      "On val 1\n",
      "On val 0\n",
      "On val 1\n",
      "On val 0\n",
      "On val 1\n",
      "On val 0\n",
      "On val 1\n",
      "On val 0\n",
      "On val 1\n",
      "On val 0\n",
      "On val 1\n",
      "On val 0\n",
      "On val 1\n",
      "On val 0\n",
      "On val 1\n",
      "On val 0\n",
      "On val 1\n",
      "On val 0\n",
      "On val 1\n",
      "On val 0\n",
      "On val 1\n",
      "On val 0\n",
      "On val 1\n",
      "On val 0\n",
      "On val 1\n",
      "On val 0\n",
      "On val 1\n",
      "On val 0\n",
      "On val 1\n",
      "On val 0\n",
      "On val 1\n",
      "On val 0\n",
      "On val 1\n",
      "On val 0\n",
      "On val 1\n",
      "On val 0\n",
      "On val 1\n",
      "On val 0\n",
      "On val 1\n",
      "On val 0\n",
      "On val 1\n",
      "On val 0\n",
      "On val 1\n",
      "On val 0\n",
      "On val 1\n",
      "On val 0\n",
      "On val 1\n",
      "On val 0\n",
      "On val 1\n",
      "On val 0\n",
      "On val 1\n",
      "On val 0\n",
      "On val 1\n",
      "On val 0\n",
      "On val 1\n",
      "On val 0\n",
      "On val 1\n",
      "On val 0\n",
      "On val 1\n",
      "On val 0\n",
      "On val 1\n",
      "On val 0\n",
      "On val 1\n",
      "On val 0\n",
      "On val 1\n",
      "On val 0\n",
      "On val 1\n",
      "On val 0\n",
      "On val 1\n",
      "On val 0\n",
      "On val 1\n",
      "On val 0\n",
      "On val 1\n",
      "On val 0\n",
      "On val 1\n",
      "On val 0\n",
      "On val 1\n",
      "On val 0\n",
      "On val 1\n",
      "On val 0\n",
      "On val 1\n",
      "On val 0\n",
      "On val 1\n",
      "On val 0\n",
      "On val 1\n",
      "On val 0\n",
      "On val 1\n",
      "On val 0\n",
      "On val 1\n",
      "On val 0\n",
      "On val 1\n",
      "On val 0\n",
      "On val 1\n",
      "On val 0\n",
      "On val 1\n",
      "On val 0\n",
      "On val 1\n",
      "On val 0\n",
      "On val 1\n",
      "On val 0\n",
      "On val 1\n",
      "On val 0\n",
      "On val 1\n",
      "On val 0\n",
      "On val 1\n",
      "On val 0\n",
      "On val 1\n",
      "On val 0\n",
      "On val 1\n",
      "On val 0\n",
      "On val 1\n",
      "On val 0\n",
      "On val 1\n",
      "On val 0\n",
      "On val 1\n",
      "On val 0\n",
      "On val 1\n"
     ]
    },
    {
     "data": {
      "text/plain": [
       "[<matplotlib.lines.Line2D at 0x7feb87f5caf0>]"
      ]
     },
     "execution_count": 17,
     "metadata": {},
     "output_type": "execute_result"
    },
    {
     "data": {
      "image/png": "[encoded data removed]",
      "text/plain": [
       "<Figure size 640x480 with 1 Axes>"
      ]
     },
     "metadata": {},
     "output_type": "display_data"
    }
   ],
   "source": [
    "num_trials = 10\n",
    "x_values = [0.05,0.1,0.2,0.3,0.4,0.5,0.6,0.7,0.8,0.9,0.95]\n",
    "y_values = []\n",
    "for accuracy in x_values:\n",
    "    trials = []\n",
    "    for i in range(num_trials):\n",
    "        tidy['cluster'] = train_random_predictor(tidy['true_esc'],accuracy)\n",
    "        random_predictor = assess_callibration(tidy,\"human.pred.t12\",\"cluster\",\"true_esc\")\n",
    "        trials.append(random_predictor)\n",
    "    y_values.append(np.max(trials))\n",
    "\n",
    "plt.plot(x_values,y_values)"
   ]
  },
  {
   "cell_type": "code",
   "execution_count": 23,
   "metadata": {},
   "outputs": [
    {
     "data": {
      "text/html": [
       "<div>\n",
       "<style scoped>\n",
       "    .dataframe tbody tr th:only-of-type {\n",
       "        vertical-align: middle;\n",
       "    }\n",
       "\n",
       "    .dataframe tbody tr th {\n",
       "        vertical-align: top;\n",
       "    }\n",
       "\n",
       "    .dataframe thead th {\n",
       "        text-align: right;\n",
       "    }\n",
       "</style>\n",
       "<table border=\"1\" class=\"dataframe\">\n",
       "  <thead>\n",
       "    <tr style=\"text-align: right;\">\n",
       "      <th>human.pred.t12</th>\n",
       "      <th>0</th>\n",
       "      <th>1</th>\n",
       "    </tr>\n",
       "    <tr>\n",
       "      <th>true_esc</th>\n",
       "      <th></th>\n",
       "      <th></th>\n",
       "    </tr>\n",
       "  </thead>\n",
       "  <tbody>\n",
       "    <tr>\n",
       "      <th>0</th>\n",
       "      <td>344</td>\n",
       "      <td>212</td>\n",
       "    </tr>\n",
       "    <tr>\n",
       "      <th>1</th>\n",
       "      <td>69</td>\n",
       "      <td>235</td>\n",
       "    </tr>\n",
       "  </tbody>\n",
       "</table>\n",
       "</div>"
      ],
      "text/plain": [
       "human.pred.t12    0    1\n",
       "true_esc                \n",
       "0               344  212\n",
       "1                69  235"
      ]
     },
     "execution_count": 23,
     "metadata": {},
     "output_type": "execute_result"
    }
   ],
   "source": [
    "import pandas as pd\n",
    "pd.crosstab(tidy['true_esc'],tidy['human.pred.t12'])"
   ]
  },
  {
   "cell_type": "code",
   "execution_count": 34,
   "metadata": {},
   "outputs": [
    {
     "data": {
      "text/plain": [
       "0.9046511627906977"
      ]
     },
     "execution_count": 34,
     "metadata": {},
     "output_type": "execute_result"
    }
   ],
   "source": [
    "data_column = tidy[['human.pred.t12','true_esc']].to_numpy()\n",
    "new_labels = []\n",
    "num_mistakes = 0\n",
    "max_mistakes = int(len(tidy)*0.7)\n",
    "for i in range(len(data_column)):\n",
    "    if data_column[i][1] == 1:\n",
    "        new_labels.append(1)\n",
    "    elif data_column[i][1] == 0 and data_column[i][0] == 0 and num_mistakes<max_mistakes:\n",
    "        new_labels.append(1)\n",
    "    else:\n",
    "        new_labels.append(0)\n",
    "tidy['cluster'] = new_labels\n",
    "assess_callibration(tidy,\"human.pred.t12\",\"cluster\",\"true_esc\")"
   ]
  },
  {
   "cell_type": "code",
   "execution_count": 35,
   "metadata": {},
   "outputs": [],
   "source": [
    "num_trials = 100\n",
    "accuracy = 0.7\n",
    "trials = []\n",
    "for i in range(num_trials):\n",
    "    tidy['cluster'] = train_random_predictor(tidy['true_esc'],accuracy)\n",
    "    predictors_by_human = [assess_callibration(tidy,\"human.pred.t{}\".format(i),\"cluster\",\"true_esc\") for i in [4,8,12]]\n",
    "    trials.append(predictors_by_human)\n",
    "trials = np.array(trials)"
   ]
  },
  {
   "cell_type": "code",
   "execution_count": 94,
   "metadata": {},
   "outputs": [
    {
     "data": {
      "text/plain": [
       "(62, 35, 62)"
      ]
     },
     "execution_count": 94,
     "metadata": {},
     "output_type": "execute_result"
    }
   ],
   "source": [
    "np.argmax(trials[:,0]),np.argmax(trials[:,1]),np.argmax(trials[:,2])"
   ]
  },
  {
   "cell_type": "code",
   "execution_count": 99,
   "metadata": {},
   "outputs": [
    {
     "data": {
      "text/plain": [
       "(0.5507097305367171, 0.509824906737115, 0.5345193427372451)"
      ]
     },
     "execution_count": 99,
     "metadata": {},
     "output_type": "execute_result"
    }
   ],
   "source": [
    "np.corrcoef(trials[:,0],trials[:,1])[0,1],np.corrcoef(trials[:,0],trials[:,2])[0,1],np.corrcoef(trials[:,1],trials[:,2])[0,1]"
   ]
  },
  {
   "cell_type": "code",
   "execution_count": 100,
   "metadata": {},
   "outputs": [
    {
     "data": {
      "text/plain": [
       "<matplotlib.collections.PathCollection at 0x7f73eb461190>"
      ]
     },
     "execution_count": 100,
     "metadata": {},
     "output_type": "execute_result"
    },
    {
     "data": {
      "image/png": "[encoded data removed]",
      "text/plain": [
       "<Figure size 1920x1440 with 1 Axes>"
      ]
     },
     "metadata": {},
     "output_type": "display_data"
    }
   ],
   "source": [
    "plt.scatter(trials[:,1],trials[:,2])"
   ]
  }
 ],
 "metadata": {
  "kernelspec": {
   "display_name": "food",
   "language": "python",
   "name": "python3"
  },
  "language_info": {
   "codemirror_mode": {
    "name": "ipython",
    "version": 3
   },
   "file_extension": ".py",
   "mimetype": "text/x-python",
   "name": "python",
   "nbconvert_exporter": "python",
   "pygments_lexer": "ipython3",
   "version": "3.8.18"
  }
 },
 "nbformat": 4,
 "nbformat_minor": 2
}
